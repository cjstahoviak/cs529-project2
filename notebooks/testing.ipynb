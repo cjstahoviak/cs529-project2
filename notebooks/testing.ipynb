{
 "cells": [
  {
   "cell_type": "code",
   "execution_count": null,
   "metadata": {},
   "outputs": [],
   "source": [
    "from sklearn.pipeline import Pipeline\n",
    "from sklearn.preprocessing import OrdinalEncoder, FunctionTransformer\n",
    "import pandas as pd\n",
    "from pathlib import Path\n",
    "import librosa\n",
    "from custom_transformers import LibrosaTransformer, ElementwiseSummaryStats\n",
    "from sklearn.decomposition import PCA\n",
    "import matplotlib.pyplot as plt\n",
    "import seaborn as sns\n",
    "import numpy as np"
   ]
  },
  {
   "cell_type": "code",
   "execution_count": null,
   "metadata": {},
   "outputs": [],
   "source": [
    "train_fpath = Path(\"../data/processed/train_data.pkl\").resolve()\n",
    "train_df = pd.read_pickle(train_fpath)\n",
    "y = train_df[\"target\"]\n",
    "X = train_df[\"audio\"]"
   ]
  },
  {
   "cell_type": "code",
   "execution_count": null,
   "metadata": {},
   "outputs": [],
   "source": [
    "mfcc_transformer = LibrosaTransformer(\"mfcc\", n_mfcc=13)\n",
    "summary_stats = ElementwiseSummaryStats(desc_kw_args={\"axis\": 1})\n",
    "\n",
    "pipe = Pipeline(\n",
    "    [\n",
    "        (\"mfcc\", mfcc_transformer),\n",
    "        (\"summary_stats\", summary_stats),\n",
    "    ]\n",
    ")"
   ]
  },
  {
   "cell_type": "code",
   "execution_count": null,
   "metadata": {},
   "outputs": [],
   "source": [
    "X_trans = pipe.fit_transform(X)"
   ]
  },
  {
   "cell_type": "code",
   "execution_count": null,
   "metadata": {},
   "outputs": [],
   "source": [
    "X_trans.columns.get_level_values(0).unique()"
   ]
  },
  {
   "cell_type": "code",
   "execution_count": null,
   "metadata": {},
   "outputs": [],
   "source": [
    "d = {X_trans: \"apple\"}"
   ]
  },
  {
   "cell_type": "code",
   "execution_count": null,
   "metadata": {},
   "outputs": [],
   "source": [
    "tmp_x = X_trans[\"min\"]\n",
    "pca = PCA()\n",
    "x_pca = pca.fit_transform(tmp_x)"
   ]
  },
  {
   "cell_type": "code",
   "execution_count": null,
   "metadata": {},
   "outputs": [],
   "source": [
    "pca.explained_variance_ratio_"
   ]
  },
  {
   "cell_type": "code",
   "execution_count": null,
   "metadata": {},
   "outputs": [],
   "source": [
    "fig, ax = plt.subplots()\n",
    "\n",
    "sns.barplot(\n",
    "    x=range(1, len(pca.explained_variance_ratio_) + 1),\n",
    "    y=pca.explained_variance_ratio_,\n",
    "    ax=ax,\n",
    ")\n",
    "ax.set_xlabel(\"Principal Component\")\n",
    "sns.lineplot(\n",
    "    x=range(1, len(pca.explained_variance_ratio_) + 1),\n",
    "    y=pca.explained_variance_ratio_.cumsum(),\n",
    "    ax=ax,\n",
    ")"
   ]
  },
  {
   "cell_type": "code",
   "execution_count": null,
   "metadata": {},
   "outputs": [],
   "source": [
    "pca.transform(X)"
   ]
  },
  {
   "cell_type": "code",
   "execution_count": null,
   "metadata": {},
   "outputs": [],
   "source": [
    "fig, ax = plt.subplots()\n",
    "sns.scatterplot(x=x_pca[:, 1], y=x_pca[:, 2], ax=ax, hue=y)"
   ]
  }
 ],
 "metadata": {
  "kernelspec": {
   "display_name": "cs529_proj2",
   "language": "python",
   "name": "python3"
  },
  "language_info": {
   "codemirror_mode": {
    "name": "ipython",
    "version": 3
   },
   "file_extension": ".py",
   "mimetype": "text/x-python",
   "name": "python",
   "nbconvert_exporter": "python",
   "pygments_lexer": "ipython3",
   "version": "3.11.8"
  }
 },
 "nbformat": 4,
 "nbformat_minor": 2
}
