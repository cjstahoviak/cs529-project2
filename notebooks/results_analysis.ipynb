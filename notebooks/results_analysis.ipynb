{
 "cells": [
  {
   "cell_type": "code",
   "execution_count": null,
   "metadata": {},
   "outputs": [],
   "source": [
    "from pathlib import Path\n",
    "\n",
    "import matplotlib.colors as mcolors\n",
    "import matplotlib.pyplot as plt\n",
    "import numpy as np\n",
    "import pandas as pd\n",
    "import seaborn as sns"
   ]
  },
  {
   "cell_type": "code",
   "execution_count": null,
   "metadata": {},
   "outputs": [],
   "source": [
    "results_dir = Path(\"../data/results\").resolve()\n",
    "fig_dir = Path(\"../figures\").resolve()"
   ]
  },
  {
   "cell_type": "markdown",
   "metadata": {},
   "source": [
    "# Analysis of the Logistic Regression Results"
   ]
  },
  {
   "cell_type": "code",
   "execution_count": null,
   "metadata": {},
   "outputs": [],
   "source": [
    "lr_results = pd.read_csv(\n",
    "    results_dir / \"logistic_regression_cv_results.csv\",\n",
    "    dtype={\"param_logreg__regularization\": str},\n",
    ")\n",
    "\n",
    "# Rename columns\n",
    "lr_results.columns = lr_results.columns.str.replace(\"param_logreg__\", \"\", regex=False)\n",
    "lr_results.columns = lr_results.columns.str.replace(\n",
    "    \"param_win_selector__\", \"\", regex=False\n",
    ")\n",
    "lr_results.columns = lr_results.columns.str.replace(\"param_pca__\", \"\", regex=False)\n",
    "\n",
    "lr_results[\"regularization\"] = lr_results[\"regularization\"].fillna(\"None\")\n",
    "lr_results[\"lam\"] = lr_results[\"lam\"].fillna(\"NA\")\n",
    "lr_results[\"regularization\"] = lr_results[\"regularization\"].replace(\n",
    "    [\"l1\", \"l2\"], [\"L1\", \"L2\"]\n",
    ")"
   ]
  },
  {
   "cell_type": "code",
   "execution_count": null,
   "metadata": {},
   "outputs": [],
   "source": [
    "sns.set_theme(style=\"darkgrid\")"
   ]
  },
  {
   "cell_type": "code",
   "execution_count": null,
   "metadata": {},
   "outputs": [],
   "source": [
    "# Define logarithmic colormap\n",
    "cmap = mcolors.LogNorm(vmin=0.01, vmax=10)\n",
    "colors = plt.cm.viridis(cmap(np.linspace(0.01, 10, 4)))\n",
    "\n",
    "# Create a dictionary mapping hue levels to colors\n",
    "hue_dict = {\n",
    "    0.01: colors[0],\n",
    "    0.1: colors[1],\n",
    "    1.0: colors[2],\n",
    "    10: colors[3],\n",
    "    \"NA\": \"grey\",\n",
    "}\n",
    "\n",
    "ax = sns.boxplot(\n",
    "    y=\"mean_test_score\",\n",
    "    data=lr_results,\n",
    "    x=\"regularization\",\n",
    "    hue=\"lam\",\n",
    "    palette=hue_dict,\n",
    ")\n",
    "# ax.set_title(\"Logistic Regression\\nCV Mean Test Accuracy by Regularization and Lambda\")\n",
    "ax.set_ylabel(\"CV Mean Test Accuracy\")\n",
    "ax.set_xlabel(\"Regularization Method\")\n",
    "_ = ax.legend(loc=\"lower left\", title=\"Lambda\")\n",
    "plt.savefig(\n",
    "    fig_dir / \"lr_accuracy_regularization_lam.png\", dpi=600, bbox_inches=\"tight\"\n",
    ")"
   ]
  },
  {
   "cell_type": "code",
   "execution_count": null,
   "metadata": {},
   "outputs": [],
   "source": [
    "# Plot tolerance vs Fit Time\n",
    "ax = sns.boxplot(y=\"mean_fit_time\", data=lr_results, x=\"tol\", hue=\"regularization\")\n",
    "ax.set_ylabel(\"CV Mean Fit Time (s)\")\n",
    "ax.set_xlabel(\"Loss Change Tolerance\")\n",
    "ax.legend(title=\"Regularization\")\n",
    "plt.savefig(fig_dir / \"lr_fit_time_tolerance.png\", dpi=600, bbox_inches=\"tight\")"
   ]
  },
  {
   "cell_type": "code",
   "execution_count": null,
   "metadata": {},
   "outputs": [],
   "source": [
    "# Plot tolerance vs accuracy\n",
    "ax = sns.boxplot(y=\"mean_test_score\", data=lr_results, x=\"tol\", hue=\"regularization\")\n",
    "ax.set_ylabel(\"CV Mean Fit Time (s)\")\n",
    "ax.set_xlabel(\"Loss Change Tolerance\")\n",
    "ax.legend(title=\"Regularization\")"
   ]
  },
  {
   "cell_type": "code",
   "execution_count": null,
   "metadata": {},
   "outputs": [],
   "source": [
    "# Win size vs Accuracy\n",
    "ax = sns.boxplot(x=\"win_size\", y=\"mean_test_score\", data=lr_results)\n",
    "ax.set_ylabel(\"CV Mean Test Accuracy\")\n",
    "ax.set_xlabel(\"Window Size (N_FFT)\")\n",
    "plt.savefig(fig_dir / \"lr_accuracy_win_size_uniform.png\", dpi=600, bbox_inches=\"tight\")"
   ]
  },
  {
   "cell_type": "code",
   "execution_count": null,
   "metadata": {},
   "outputs": [],
   "source": [
    "# Winsize vs accuracy + regularization\n",
    "ax = sns.boxplot(\n",
    "    x=\"win_size\", y=\"mean_test_score\", data=lr_results, hue=\"regularization\"\n",
    ")\n",
    "ax.set_ylabel(\"CV Mean Test Accuracy\")\n",
    "ax.set_xlabel(\"Window Size (N_FFT)\")\n",
    "ax.legend(title=\"Regularization\", loc=\"lower left\")\n",
    "plt.savefig(\n",
    "    fig_dir / \"lr_accuracy_win_size_by_regularization.png\", dpi=600, bbox_inches=\"tight\"\n",
    ")"
   ]
  },
  {
   "cell_type": "code",
   "execution_count": null,
   "metadata": {},
   "outputs": [],
   "source": [
    "# PCA components vs accuracy\n",
    "ax = sns.boxplot(x=\"n_components\", y=\"mean_test_score\", data=lr_results)\n",
    "ax.set_ylabel(\"CV Mean Test Accuracy\")\n",
    "ax.set_xlabel(\"PCA Components\")\n",
    "# ax.legend(title=\"Regularization\", loc='lower left')\n",
    "# plt.savefig(fig_dir / \"lr_accuracy_win_size_by_regularization.png\", dpi = 600, bbox_inches = 'tight')"
   ]
  }
 ],
 "metadata": {
  "kernelspec": {
   "display_name": "cs529_proj2",
   "language": "python",
   "name": "python3"
  },
  "language_info": {
   "codemirror_mode": {
    "name": "ipython",
    "version": 3
   },
   "file_extension": ".py",
   "mimetype": "text/x-python",
   "name": "python",
   "nbconvert_exporter": "python",
   "pygments_lexer": "ipython3",
   "version": "3.11.8"
  }
 },
 "nbformat": 4,
 "nbformat_minor": 2
}
